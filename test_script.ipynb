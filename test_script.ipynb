{
 "cells": [
  {
   "cell_type": "markdown",
   "metadata": {},
   "source": [
    "#### Coefficients for TOPO and BRDF correction only"
   ]
  },
  {
   "cell_type": "code",
   "execution_count": null,
   "metadata": {},
   "outputs": [],
   "source": [
    "python topo_brdf_coeffs_modify.py  \n",
    "--img /hyspiri/f130626t01p00r07_rfl_v1a_img_subset  \n",
    "--obs /hyspiri/f130626t01p00r07_obs_v1a_img_subset  \n",
    "--od /hyspiri/out_dir/  \n",
    "--pref f130626t01p00r07  \n",
    "--kernels sparse thick  \n",
    "--mask  --mask_threshold 0.3 0.7  \n",
    "--brdf  \n",
    "--topo"
   ]
  },
  {
   "cell_type": "markdown",
   "metadata": {},
   "source": [
    "```shell\n",
    "python topo_brdf_coeffs_modify.py  --img /hyspiri/f130626t01p00r07_rfl_v1a_img_subset  --obs /hyspiri/f130626t01p00r07_obs_v1a_img_subset  --od /hyspiri/out_dir/  --pref f130626t01p00r07  --kernels sparse thick  --mask  --mask_threshold 0.3 0.7  --brdf  --topo\n",
    "\n",
    "\n",
    "```"
   ]
  },
  {
   "cell_type": "markdown",
   "metadata": {},
   "source": [
    "#### TOPO results only"
   ]
  },
  {
   "cell_type": "markdown",
   "metadata": {},
   "source": [
    "```shell\n",
    "python topo_brdf_coeffs_modify.py  --img /hyspiri/f130626t01p00r07_rfl_v1a_img_subset  --obs /hyspiri/f130626t01p00r07_obs_v1a_img_subset  --od /hyspiri/out_dir/  --pref f130626t01p00r07  --topo\n",
    "\n",
    "python image_to_traits_modify.py -img /hyspiri/f130626t01p00r07_rfl_v1a_img_subset --obs /hyspiri/f130626t01p00r07_obs_v1a_img_subset -od /hyspiri/out_dir/ --topo /hyspiri/out_dir/f130626t01p00r07_subset_topo_coeffs.json --out /hyspiri/f130626t01p00r07_rfl_v1a_img_subset_topo\n",
    "\n",
    "\n",
    "\n",
    "```"
   ]
  },
  {
   "cell_type": "markdown",
   "metadata": {},
   "source": [
    "#### BRDF results only"
   ]
  },
  {
   "cell_type": "markdown",
   "metadata": {},
   "source": [
    "```shell\n",
    "python topo_brdf_coeffs_modify.py  --img /hyspiri/f130626t01p00r07_rfl_v1a_img_subset  --obs /hyspiri/f130626t01p00r07_obs_v1a_img_subset  --od /hyspiri/out_dir/  --pref f130626t01p00r07  --kernels sparse thick  --mask  --mask_threshold 0.3 0.7  --brdf\n",
    "\n",
    "python image_to_traits_modify.py -img /hyspiri/f130626t01p00r07_rfl_v1a_img_subset --obs /hyspiri/f130626t01p00r07_obs_v1a_img_subset -od /hyspiri/out_dir/ --brdf /hyspiri/out_dir/f130626t01p00r07_subset --mask --mask_threshold .3 .7  --out /hyspiri/f130626t01p00r07_rfl_v1a_img_subset_brdf\n",
    "\n",
    "\n",
    "```"
   ]
  },
  {
   "cell_type": "markdown",
   "metadata": {},
   "source": [
    "#### TOPO and BRDF result (ENVI format)"
   ]
  },
  {
   "cell_type": "markdown",
   "metadata": {},
   "source": [
    "```shell\n",
    "python topo_brdf_coeffs_modify.py  --img /hyspiri/f130626t01p00r07_rfl_v1a_img_subset  --obs /hyspiri/f130626t01p00r07_obs_v1a_img_subset  --od /hyspiri/out_dir/  --pref f130626t01p00r07  --kernels sparse thick  --mask  --mask_threshold 0.3 0.7  --brdf  --topo\n",
    "\n",
    "python image_to_traits_modify.py -img /hyspiri/f130626t01p00r07_rfl_v1a_img_subset --obs /hyspiri/f130626t01p00r07_obs_v1a_img_subset -od /hyspiri/out_dir/ --topo /hyspiri/out_dir/f130626t01p00r07_subset_topo_coeffs.json --brdf /hyspiri/out_dir/f130626t01p00r07_subset --mask --mask_threshold .3 .7  --out /hyspiri/f130626t01p00r07_rfl_v1a_img_subset_topo_brdf\n",
    "\n",
    "\n",
    "```"
   ]
  },
  {
   "cell_type": "markdown",
   "metadata": {},
   "source": [
    "#### TOPO and BRDF result (GeoTIFF format - 8 bands)"
   ]
  },
  {
   "cell_type": "markdown",
   "metadata": {},
   "source": [
    "```shell\n",
    "python topo_brdf_coeffs_modify.py  --img /hyspiri/f130626t01p00r07_rfl_v1a_img_subset  --obs /hyspiri/f130626t01p00r07_obs_v1a_img_subset  --od /hyspiri/out_dir/  --pref f130626t01p00r07  --kernels sparse thick  --mask  --mask_threshold 0.3 0.7  --brdf  --topo\n",
    "\n",
    "python image_to_traits_modify.py -img /hyspiri/f130626t01p00r07_rfl_v1a_img_subset --obs /hyspiri/f130626t01p00r07_obs_v1a_img_subset -od /hyspiri/out_dir/ --topo /hyspiri/out_dir/f130626t01p00r07_subset_topo_coeffs.json --brdf /hyspiri/out_dir/f130626t01p00r07_subset --mask --mask_threshold .3 .7  --rgbim\n",
    "\n",
    "\n",
    "```"
   ]
  },
  {
   "cell_type": "markdown",
   "metadata": {},
   "source": [
    "#### TOPO and BRDF result (ENVI format plus GeoTIFF format - 8 bands)"
   ]
  },
  {
   "cell_type": "markdown",
   "metadata": {},
   "source": [
    "```shell\n",
    "python topo_brdf_coeffs_modify.py  --img /hyspiri/f130626t01p00r07_rfl_v1a_img_subset  --obs /hyspiri/f130626t01p00r07_obs_v1a_img_subset  --od /hyspiri/out_dir/  --pref f130626t01p00r07  --kernels sparse thick  --mask  --mask_threshold 0.3 0.7  --brdf  --topo\n",
    "\n",
    "python image_to_traits_modify.py -img /hyspiri/f130626t01p00r07_rfl_v1a_img_subset --obs /hyspiri/f130626t01p00r07_obs_v1a_img_subset -od /hyspiri/out_dir/ --topo /hyspiri/out_dir/f130626t01p00r07_subset_topo_coeffs.json --brdf /hyspiri/out_dir/f130626t01p00r07_subset --mask --mask_threshold .3 .7  --out /hyspiri/f130626t01p00r07_rfl_v1a_img_subset_topo_brdf --rgbim\n",
    "\n",
    "\n",
    "```"
   ]
  },
  {
   "cell_type": "markdown",
   "metadata": {},
   "source": [
    "#### Traits results (GeoTIFF format)"
   ]
  },
  {
   "cell_type": "markdown",
   "metadata": {},
   "source": [
    "```bash\n",
    "python topo_brdf_coeffs_modify.py  --img /hyspiri/f130626t01p00r07_rfl_v1a_img_subset  --obs /hyspiri/f130626t01p00r07_obs_v1a_img_subset  --od /hyspiri/out_dir/  --pref f130626t01p00r07  --kernels sparse thick  --mask  --mask_threshold 0.3 0.7  --brdf  --topo\n",
    "\n",
    "python image_to_traits_modify.py -img /hyspiri/f130626t01p00r07_rfl_v1a_img_subset --obs /hyspiri/f130626t01p00r07_obs_v1a_img_subset -od /hyspiri/out_dir/ --brdf /hyspiri/out_dir/f130626t01p00r07  --topo /hyspiri/out_dir/f130626t01p00r07_subset_topo_coeffs.json  --mask --mask_threshold .3 .7  -coeffs /hyspiri/traits/\n",
    "\n",
    "\n",
    "```"
   ]
  }
 ],
 "metadata": {
  "kernelspec": {
   "display_name": "Python 2",
   "language": "python",
   "name": "python2"
  },
  "language_info": {
   "codemirror_mode": {
    "name": "ipython",
    "version": 2
   },
   "file_extension": ".py",
   "mimetype": "text/x-python",
   "name": "python",
   "nbconvert_exporter": "python",
   "pygments_lexer": "ipython2",
   "version": "2.7.14"
  }
 },
 "nbformat": 4,
 "nbformat_minor": 2
}
