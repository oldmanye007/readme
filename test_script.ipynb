{
 "cells": [
  {
   "cell_type": "markdown",
   "metadata": {},
   "source": [
    "### 1. Single Image Mode"
   ]
  },
  {
   "cell_type": "markdown",
   "metadata": {},
   "source": [
    "#### Coefficients for TOPO and BRDF correction only"
   ]
  },
  {
   "cell_type": "code",
   "execution_count": null,
   "metadata": {},
   "outputs": [],
   "source": [
    "python topo_brdf_coeffs_modify_hybeta4.py  --img /hyspiri/f130626t01p00r07_rfl_v1a_img_subset  --obs /hyspiri/f130626t01p00r07_obs_v1a_img_subset  --od /hyspiri/out_dir/  --pref f130626t01p00r07  --kernels sparse thick  --mask  --mask_threshold 0.3 0.7  --brdf  --topo\n"
   ]
  },
  {
   "cell_type": "markdown",
   "metadata": {},
   "source": [
    "#### TOPO results only"
   ]
  },
  {
   "cell_type": "code",
   "execution_count": null,
   "metadata": {},
   "outputs": [],
   "source": [
    "\n",
    "python topo_brdf_coeffs_modify_hybeta4.py  --img /hyspiri/f130626t01p00r07_rfl_v1a_img_subset  --obs /hyspiri/f130626t01p00r07_obs_v1a_img_subset  --od /hyspiri/out_dir/  --pref f130626t01p00r07 --mask  --topo\n",
    "\n",
    "python image_to_traits_modify_hybeta4.py -img /hyspiri/f130626t01p00r07_rfl_v1a_img_subset --obs /hyspiri/f130626t01p00r07_obs_v1a_img_subset -od /hyspiri/out_dir/ --mask --topo /hyspiri/out_dir/f130626t01p00r07_subset_topo_coeffs.json --out _topo\n",
    "\n"
   ]
  },
  {
   "cell_type": "markdown",
   "metadata": {},
   "source": [
    "#### BRDF results only"
   ]
  },
  {
   "cell_type": "code",
   "execution_count": null,
   "metadata": {},
   "outputs": [],
   "source": [
    "\n",
    "python topo_brdf_coeffs_modify_hybeta4.py  --img /hyspiri/f130626t01p00r07_rfl_v1a_img_subset  --obs /hyspiri/f130626t01p00r07_obs_v1a_img_subset  --od /hyspiri/out_dir/  --pref f130626t01p00r07  --kernels sparse thick  --mask  --mask_threshold 0.3 0.7  --brdf\n",
    "\n",
    "python image_to_traits_modify_hybeta4.py -img /hyspiri/f130626t01p00r07_rfl_v1a_img_subset --obs /hyspiri/f130626t01p00r07_obs_v1a_img_subset -od /hyspiri/out_dir/ --brdf /hyspiri/out_dir/f130626t01p00r07_subset --mask --mask_threshold .3 .7  --out _brdf\n",
    "\n"
   ]
  },
  {
   "cell_type": "markdown",
   "metadata": {},
   "source": [
    "#### TOPO and BRDF result (ENVI format)"
   ]
  },
  {
   "cell_type": "code",
   "execution_count": null,
   "metadata": {},
   "outputs": [],
   "source": [
    "\n",
    "python topo_brdf_coeffs_modify_hybeta4.py  --img /hyspiri/f130626t01p00r07_rfl_v1a_img_subset  --obs /hyspiri/f130626t01p00r07_obs_v1a_img_subset  --od /hyspiri/out_dir/  --pref f130626t01p00r07  --kernels sparse thick  --mask  --mask_threshold 0.3 0.7  --brdf  --topo\n",
    "\n",
    "python image_to_traits_modify_hybeta4.py -img /hyspiri/f130626t01p00r07_rfl_v1a_img_subset --obs /hyspiri/f130626t01p00r07_obs_v1a_img_subset -od /hyspiri/out_dir/ --topo /hyspiri/out_dir/f130626t01p00r07_subset_topo_coeffs.json --brdf /hyspiri/out_dir/f130626t01p00r07_subset --mask --mask_threshold .3 .7  --out _topo_brdf\n",
    "\n"
   ]
  },
  {
   "cell_type": "markdown",
   "metadata": {},
   "source": [
    "#### TOPO and BRDF result (GeoTIFF format - 8 bands)"
   ]
  },
  {
   "cell_type": "code",
   "execution_count": null,
   "metadata": {},
   "outputs": [],
   "source": [
    "\n",
    "python topo_brdf_coeffs_modify_hybeta4.py  --img /hyspiri/f130626t01p00r07_rfl_v1a_img_subset  --obs /hyspiri/f130626t01p00r07_obs_v1a_img_subset  --od /hyspiri/out_dir/  --pref f130626t01p00r07  --kernels sparse thick  --mask  --mask_threshold 0.3 0.7  --brdf  --topo\n",
    "\n",
    "python image_to_traits_modify_hybeta4.py -img /hyspiri/f130626t01p00r07_rfl_v1a_img_subset --obs /hyspiri/f130626t01p00r07_obs_v1a_img_subset -od /hyspiri/out_dir/ --topo /hyspiri/out_dir/f130626t01p00r07_subset_topo_coeffs.json --brdf /hyspiri/out_dir/f130626t01p00r07_subset --mask --mask_threshold .3 .7  --rgbim\n",
    "\n"
   ]
  },
  {
   "cell_type": "markdown",
   "metadata": {},
   "source": [
    "#### TOPO and BRDF result (ENVI format plus GeoTIFF format - 8 bands)"
   ]
  },
  {
   "cell_type": "code",
   "execution_count": null,
   "metadata": {},
   "outputs": [],
   "source": [
    "\n",
    "python topo_brdf_coeffs_modify_hybeta4.py  --img /hyspiri/f130626t01p00r07_rfl_v1a_img_subset  --obs /hyspiri/f130626t01p00r07_obs_v1a_img_subset  --od /hyspiri/out_dir/  --pref f130626t01p00r07  --kernels sparse thick  --mask  --mask_threshold 0.3 0.7  --brdf  --topo\n",
    "\n",
    "python image_to_traits_modify_hybeta4.py -img /hyspiri/f130626t01p00r07_rfl_v1a_img_subset --obs /hyspiri/f130626t01p00r07_obs_v1a_img_subset -od /hyspiri/out_dir/ --topo /hyspiri/out_dir/f130626t01p00r07_subset_topo_coeffs.json --brdf /hyspiri/out_dir/f130626t01p00r07_subset --mask --mask_threshold .3 .7  --out _topo_brdf --rgbim\n",
    "\n"
   ]
  },
  {
   "cell_type": "markdown",
   "metadata": {},
   "source": [
    "#### Traits results (GeoTIFF format)"
   ]
  },
  {
   "cell_type": "code",
   "execution_count": null,
   "metadata": {},
   "outputs": [],
   "source": [
    "\n",
    "python topo_brdf_coeffs_modify_hybeta4.py  --img /hyspiri/f130626t01p00r07_rfl_v1a_img_subset  --obs /hyspiri/f130626t01p00r07_obs_v1a_img_subset  --od /hyspiri/out_dir/  --pref f130626t01p00r07  --kernels sparse thick  --mask  --mask_threshold 0.3 0.7  --brdf  --topo\n",
    "\n",
    "python image_to_traits_modify_hybeta4.py -img /hyspiri/f130626t01p00r07_rfl_v1a_img_subset --obs /hyspiri/f130626t01p00r07_obs_v1a_img_subset -od /hyspiri/out_dir/ --brdf /hyspiri/out_dir/f130626t01p00r07  --topo /hyspiri/out_dir/f130626t01p00r07_subset_topo_coeffs.json  --mask --mask_threshold .3 .7  -coeffs /hyspiri/traits/\n",
    "\n"
   ]
  },
  {
   "cell_type": "markdown",
   "metadata": {},
   "source": [
    "### 2. Batch Mode"
   ]
  },
  {
   "cell_type": "markdown",
   "metadata": {},
   "source": [
    "Prepare the file list (fake_list.txt) and the shell script (fake_batch.sh).\n",
    "\n",
    "<p></p>\n",
    "\n",
    "<b>Directory for L2 reflectance image</b> \n",
    "\n",
    "<i>/hyspiri/</i> \n",
    "\n",
    "<b>Directory for L1 obs_ort image</b> \n",
    "\n",
    "<i>/hyspiri/</i>\n",
    "\n",
    "<b>Image List</b>\n",
    "\n",
    "<i>/hyspiri/fake_list.txt</i>\n",
    "\n",
    "<b>Output directory</b>\n",
    "\n",
    "<i>/hyspiri/out_dir/</i>\n",
    "\n",
    "<b>Directory for trait coefficients (json format)</b>\n",
    "\n",
    "<i>/hyspiri/traits/</i>\n"
   ]
  },
  {
   "cell_type": "markdown",
   "metadata": {},
   "source": [
    "##### fake_list.txt\n",
    "\n",
    "```\n",
    "f130626t01p00r07\n",
    "f130626t01p00r09\n",
    "```"
   ]
  },
  {
   "cell_type": "markdown",
   "metadata": {},
   "source": [
    "##### shell script for traitss mapping (fake_batch.sh)"
   ]
  },
  {
   "cell_type": "markdown",
   "metadata": {},
   "source": [
    "```shell\n",
    "#echo $1 # rfl image dir\n",
    "#echo $2 # obs file dir\n",
    "#echo $3 #file list\n",
    "#echo $4 # output dir\n",
    "#echo $5 # coeffs dir \n",
    "\n",
    "while IFS= read -r imgbase\n",
    "do\n",
    "\n",
    "    imagename=$(ls $1/$imgbase*rfl* | head -1)\n",
    "    obsname=$(ls $2/$imgbase*obs* | head -1)\n",
    "    \n",
    "    echo $imagename\n",
    "    echo $obsname\n",
    "    \n",
    "    python topo_brdf_coeffs_modify_hybeta4.py  --img $imagename  --obs $obsname  --od $4  --pref $imgbase    --kernels sparse thick  --mask  --mask_threshold 0.3 0.7  --brdf --topo\n",
    "    python image_to_traits_modify_hybeta4.py -img $imagename --obs $obsname -od $4 --mask --mask_threshold 0.3 0.7 --brdf $4/$imgbase --topo $4/\"$imgbase\"_topo_coeffs.json   -coeffs $5\n",
    "    \n",
    "done < $3\n",
    "```"
   ]
  },
  {
   "cell_type": "markdown",
   "metadata": {},
   "source": [
    "##### run the bash"
   ]
  },
  {
   "cell_type": "markdown",
   "metadata": {},
   "source": [
    "```\n",
    "bash fake_batch.sh /hyspiri/ /hyspiri/ /hyspiri/fake_list.txt /hyspiri/out_dir/ /hyspiri/traits/\n",
    "```"
   ]
  },
  {
   "cell_type": "markdown",
   "metadata": {},
   "source": [
    "### 3. Grouping Mode"
   ]
  },
  {
   "cell_type": "markdown",
   "metadata": {},
   "source": [
    "In grouping mode, the BRDF coefficients are estimated based on sampled data from more than one images that are acquired in similar time. By contrast, in the single mode, the BRDF coefficients are estimated image by image without sampling.\n",
    "\n",
    "TOPO coefficients estimation can be done either in a grouping mode ot in a single mode <b>\"--topo_sep\"</b>.\n",
    "\n",
    "In the grouping mode, the size of samples is determined by percentage parameter <b>\"--samp_perc\"</b>."
   ]
  },
  {
   "cell_type": "markdown",
   "metadata": {},
   "source": [
    "#### Image-by-image TOPO correction, grouping BRDF correction\n",
    "\n",
    "Two images are corrected. TOPO correction is image based using sampled points from each image. BRDF is group based that is estimated from samples from both images. Sampling ratio is 10% in the example.\n",
    "\n",
    "Two topo coefficients files are generated. A single BRDF coeffcients file is generated. "
   ]
  },
  {
   "cell_type": "code",
   "execution_count": null,
   "metadata": {},
   "outputs": [],
   "source": [
    "\n",
    "python topo_brdf_coeffs_modify_hybeta4.py  --img /hyspiri/f140603t01p00r10_rfl_v1b_img /hyspiri/f140603t01p00r12_rfl_v1b_img  --obs /hyspiri/f140603t01p00r10_obs_v1b_img /hyspiri/f140603t01p00r12_obs_v1b_img  --od /hyspiri/out_dir/  --pref f14_group_3bins   --topo --brdf  --mask --mask_threshold 0.4 0.7 --kernels sparse thick  --samp_perc 0.1 --topo_sep\n",
    "\n",
    "python image_to_traits_modify_hybeta4.py -img /hyspiri/f140603t01p00r10_rfl_v1b_img  --obs /hyspiri/f140603t01p00r10_obs_v1b_img -od /hyspiri/out_dir/   --mask --mask_threshold 0.4 0.7 --topo /hyspiri/out_dir/f140603t01p00r10_topo_coeffs.json  --brdf /hyspiri/out_dir/f14_group_3bins  --out _topo_brdf_group\n",
    "python image_to_traits_modify_hybeta4.py -img /hyspiri/f140603t01p00r12_rfl_v1b_img  --obs /hyspiri/f140603t01p00r12_obs_v1b_img -od /hyspiri/out_dir/   --mask --mask_threshold 0.4 0.7 --topo /hyspiri/out_dir/f140603t01p00r12_topo_coeffs.json  --brdf /hyspiri/out_dir/f14_group_3bins  --out _topo_brdf_group"
   ]
  },
  {
   "cell_type": "markdown",
   "metadata": {},
   "source": [
    "#### Grouping TOPO correction and grouping BRDF correction\n",
    "\n",
    "Two images are corrected. Both TOPO and BRDF correction are group-based that are estimated from samples from both images. Sampling ratio is 10% in the example.\n",
    "\n",
    "A single TOPO coeffcients file is generated. A single BRDF coeffcients file is generated. "
   ]
  },
  {
   "cell_type": "code",
   "execution_count": null,
   "metadata": {},
   "outputs": [],
   "source": [
    "\n",
    "python topo_brdf_coeffs_modify_hybeta4.py  --img /hyspiri/f140603t01p00r10_rfl_v1b_img /hyspiri/f140603t01p00r12_rfl_v1b_img  --obs /hyspiri/f140603t01p00r10_obs_v1b_img /hyspiri/f140603t01p00r12_obs_v1b_img  --od /hyspiri/out_dir/  --pref f14_group_3bins   --topo --brdf  --mask --mask_threshold 0.4 0.7 --kernels sparse thick  --samp_perc 0.1\n",
    "\n",
    "python image_to_traits_modify_hybeta4.py -img /hyspiri/f140603t01p00r10_rfl_v1b_img  --obs /hyspiri/f140603t01p00r10_obs_v1b_img -od /hyspiri/out_dir/   --mask --mask_threshold 0.4 0.7 --topo /hyspiri/out_dir/f140603t01p00r10_topo_coeffs.json  --brdf /hyspiri/out_dir/f14_group_3bins  --out _topo_brdf_group\n",
    "python image_to_traits_modify_hybeta4.py -img /hyspiri/f140603t01p00r12_rfl_v1b_img  --obs /hyspiri/f140603t01p00r12_obs_v1b_img -od /hyspiri/out_dir/   --mask --mask_threshold 0.4 0.7 --topo /hyspiri/out_dir/f140603t01p00r12_topo_coeffs.json  --brdf /hyspiri/out_dir/f14_group_3bins  --out _topo_brdf_group"
   ]
  },
  {
   "cell_type": "markdown",
   "metadata": {},
   "source": [
    "### 4. Grouping Mode with multiples NDVI bins and smoothed BRDF coefficients"
   ]
  },
  {
   "cell_type": "markdown",
   "metadata": {},
   "source": [
    "##### Different smoothing methods with multiple NDVI bins\n",
    "###### X: NDVI, Y: Volumetric/Geometric/Isotropic Coefficient\n",
    "![\"Different smoothing methods with multiple NDVI bins\"](above_bin_3interp_example.png)\n",
    "\n",
    "##### BRDF smoothing methods \n",
    "\n",
    "<B>L:</B> Linear regression\n",
    "<B>W:</B> Weighted linear regression (Weights are determined by sample sizes of each bin)\n",
    "<B>I:</B> Linear interpolation\n"
   ]
  },
  {
   "cell_type": "markdown",
   "metadata": {},
   "source": [
    "#### No smoothing, Image-by-image TOPO correction, grouping BRDF correction, 18 NDVI bins"
   ]
  },
  {
   "cell_type": "code",
   "execution_count": null,
   "metadata": {},
   "outputs": [],
   "source": [
    "python topo_brdf_coeffs_modify_hybeta4.py  --img /hyspiri/f140603t01p00r10_rfl_v1b_img /hyspiri/f140603t01p00r12_rfl_v1b_img  --obs /hyspiri/f140603t01p00r10_obs_v1b_img /hyspiri/f140603t01p00r12_obs_v1b_img  --od /hyspiri/out_dir/  --pref f14_group_3bins   --topo --brdf  --mask --mask_threshold 0.1 0.15 0.2 0.25 0.3 0.35 0.4 0.45 0.5 0.55 0.6 0.65 0.7 0.75 0.8 0.85 0.9 --kernels sparse thick  --samp_perc 0.1 --topo_sep\n",
    "\n",
    "python image_to_traits_modify_hybeta4.py -img /hyspiri/f140603t01p00r10_rfl_v1b_img  --obs /hyspiri/f140603t01p00r10_obs_v1b_img -od /hyspiri/out_dir/   --mask --mask_threshold 0.1 0.15 0.2 0.25 0.3 0.35 0.4 0.45 0.5 0.55 0.6 0.65 0.7 0.75 0.8 0.85 0.9 --topo /hyspiri/out_dir/f140603t01p00r10_topo_coeffs.json  --brdf /hyspiri/out_dir/f14_group_3bins  --out _topo_brdf_group\n",
    "python image_to_traits_modify_hybeta4.py -img /hyspiri/f140603t01p00r12_rfl_v1b_img  --obs /hyspiri/f140603t01p00r12_obs_v1b_img -od /hyspiri/out_dir/   --mask --mask_threshold 0.1 0.15 0.2 0.25 0.3 0.35 0.4 0.45 0.5 0.55 0.6 0.65 0.7 0.75 0.8 0.85 0.9 --topo /hyspiri/out_dir/f140603t01p00r12_topo_coeffs.json  --brdf /hyspiri/out_dir/f14_group_3bins  --out _topo_brdf_group"
   ]
  },
  {
   "cell_type": "markdown",
   "metadata": {},
   "source": [
    "#### Smoothing with linear regression, Image-by-image TOPO correction, grouping BRDF correction, 18 NDVI bins"
   ]
  },
  {
   "cell_type": "code",
   "execution_count": null,
   "metadata": {},
   "outputs": [],
   "source": [
    "python topo_brdf_coeffs_modify_hybeta4.py  --img /hyspiri/f140603t01p00r10_rfl_v1b_img /hyspiri/f140603t01p00r12_rfl_v1b_img  --obs /hyspiri/f140603t01p00r10_obs_v1b_img /hyspiri/f140603t01p00r12_obs_v1b_img  --od /hyspiri/out_dir/  --pref f14_group_3bins   --topo --brdf  --mask --mask_threshold 0.1 0.15 0.2 0.25 0.3 0.35 0.4 0.45 0.5 0.55 0.6 0.65 0.7 0.75 0.8 0.85 0.9 --kernels sparse thick  --samp_perc 0.1 --topo_sep\n",
    "\n",
    "python image_to_traits_modify_hybeta4.py -img /hyspiri/f140603t01p00r10_rfl_v1b_img  --obs /hyspiri/f140603t01p00r10_obs_v1b_img -od /hyspiri/out_dir/   --mask --mask_threshold 0.1 0.15 0.2 0.25 0.3 0.35 0.4 0.45 0.5 0.55 0.6 0.65 0.7 0.75 0.8 0.85 0.9 --topo /hyspiri/out_dir/f140603t01p00r10_topo_coeffs.json  --brdf /hyspiri/out_dir/f14_group_3bins  --out _topo_brdf_group -smooth L\n",
    "python image_to_traits_modify_hybeta4.py -img /hyspiri/f140603t01p00r12_rfl_v1b_img  --obs /hyspiri/f140603t01p00r12_obs_v1b_img -od /hyspiri/out_dir/   --mask --mask_threshold 0.1 0.15 0.2 0.25 0.3 0.35 0.4 0.45 0.5 0.55 0.6 0.65 0.7 0.75 0.8 0.85 0.9 --topo /hyspiri/out_dir/f140603t01p00r12_topo_coeffs.json  --brdf /hyspiri/out_dir/f14_group_3bins  --out _topo_brdf_group -smooth L"
   ]
  },
  {
   "cell_type": "markdown",
   "metadata": {},
   "source": [
    "#### Smoothing with weighted linear regression, Image-by-image TOPO correction, grouping BRDF correction, 18 NDVI bins "
   ]
  },
  {
   "cell_type": "code",
   "execution_count": null,
   "metadata": {},
   "outputs": [],
   "source": [
    "python topo_brdf_coeffs_modify_hybeta4.py  --img /hyspiri/f140603t01p00r10_rfl_v1b_img /hyspiri/f140603t01p00r12_rfl_v1b_img  --obs /hyspiri/f140603t01p00r10_obs_v1b_img /hyspiri/f140603t01p00r12_obs_v1b_img  --od /hyspiri/out_dir/  --pref f14_group_3bins   --topo --brdf  --mask --mask_threshold 0.1 0.15 0.2 0.25 0.3 0.35 0.4 0.45 0.5 0.55 0.6 0.65 0.7 0.75 0.8 0.85 0.9 --kernels sparse thick  --samp_perc 0.1 --topo_sep\n",
    "\n",
    "python image_to_traits_modify_hybeta4.py -img /hyspiri/f140603t01p00r10_rfl_v1b_img  --obs /hyspiri/f140603t01p00r10_obs_v1b_img -od /hyspiri/out_dir/   --mask --mask_threshold 0.1 0.15 0.2 0.25 0.3 0.35 0.4 0.45 0.5 0.55 0.6 0.65 0.7 0.75 0.8 0.85 0.9 --topo /hyspiri/out_dir/f140603t01p00r10_topo_coeffs.json  --brdf /hyspiri/out_dir/f14_group_3bins  --out _topo_brdf_group -smooth W\n",
    "python image_to_traits_modify_hybeta4.py -img /hyspiri/f140603t01p00r12_rfl_v1b_img  --obs /hyspiri/f140603t01p00r12_obs_v1b_img -od /hyspiri/out_dir/   --mask --mask_threshold 0.1 0.15 0.2 0.25 0.3 0.35 0.4 0.45 0.5 0.55 0.6 0.65 0.7 0.75 0.8 0.85 0.9 --topo /hyspiri/out_dir/f140603t01p00r12_topo_coeffs.json  --brdf /hyspiri/out_dir/f14_group_3bins  --out _topo_brdf_group -smooth W"
   ]
  },
  {
   "cell_type": "markdown",
   "metadata": {},
   "source": [
    "#### Smoothing with linear interpolation, Image-by-image TOPO correction, grouping BRDF correction, 18 NDVI bins"
   ]
  },
  {
   "cell_type": "code",
   "execution_count": null,
   "metadata": {},
   "outputs": [],
   "source": [
    "python topo_brdf_coeffs_modify_hybeta4.py  --img /hyspiri/f140603t01p00r10_rfl_v1b_img /hyspiri/f140603t01p00r12_rfl_v1b_img  --obs /hyspiri/f140603t01p00r10_obs_v1b_img /hyspiri/f140603t01p00r12_obs_v1b_img  --od /hyspiri/out_dir/  --pref f14_group_3bins   --topo --brdf  --mask --mask_threshold 0.1 0.15 0.2 0.25 0.3 0.35 0.4 0.45 0.5 0.55 0.6 0.65 0.7 0.75 0.8 0.85 0.9 --kernels sparse thick  --samp_perc 0.1 --topo_sep\n",
    "\n",
    "python image_to_traits_modify_hybeta4.py -img /hyspiri/f140603t01p00r10_rfl_v1b_img  --obs /hyspiri/f140603t01p00r10_obs_v1b_img -od /hyspiri/out_dir/   --mask --mask_threshold 0.1 0.15 0.2 0.25 0.3 0.35 0.4 0.45 0.5 0.55 0.6 0.65 0.7 0.75 0.8 0.85 0.9 --topo /hyspiri/out_dir/f140603t01p00r10_topo_coeffs.json  --brdf /hyspiri/out_dir/f14_group_3bins  --out _topo_brdf_group -smooth I\n",
    "python image_to_traits_modify_hybeta4.py -img /hyspiri/f140603t01p00r12_rfl_v1b_img  --obs /hyspiri/f140603t01p00r12_obs_v1b_img -od /hyspiri/out_dir/   --mask --mask_threshold 0.1 0.15 0.2 0.25 0.3 0.35 0.4 0.45 0.5 0.55 0.6 0.65 0.7 0.75 0.8 0.85 0.9 --topo /hyspiri/out_dir/f140603t01p00r12_topo_coeffs.json  --brdf /hyspiri/out_dir/f14_group_3bins  --out _topo_brdf_group -smooth I"
   ]
  },
  {
   "cell_type": "markdown",
   "metadata": {},
   "source": [
    "### 5. Batch Mode for both grouping and smoothing"
   ]
  },
  {
   "cell_type": "markdown",
   "metadata": {},
   "source": [
    "Prepare the file list (fake_list.txt) and the shell script (fake_batch_group_smooth.sh).\n",
    "\n",
    "<p></p>\n",
    "\n",
    "<b>Directory for L2 reflectance image</b> \n",
    "\n",
    "<i>/hyspiri_image_dir/</i> \n",
    "\n",
    "<b>Directory for L1 obs_ort image</b> \n",
    "\n",
    "<i>/hyspiri_obs_dir/</i>\n",
    "\n",
    "<b>Image List</b>\n",
    "\n",
    "<i>/hyspiri_file_list_dir/fake_list.txt</i>\n",
    "\n",
    "<b>Output directory</b>\n",
    "\n",
    "<i>/hyspiri_out_dir/</i>\n",
    "\n",
    "<b>Directory for trait coefficients (json format)</b>\n",
    "\n",
    "<i>/hyspiri_out_traits_dir/</i>\n"
   ]
  },
  {
   "cell_type": "markdown",
   "metadata": {},
   "source": [
    "##### fake_list.txt (Put all file base names of the same group in the same list)\n",
    "```\n",
    "f130626t01p00r07\n",
    "f130626t01p00r09\n",
    "```"
   ]
  },
  {
   "cell_type": "markdown",
   "metadata": {},
   "source": [
    "###### shell script for traitss mapping (fake_batch_group_smooth.sh)"
   ]
  },
  {
   "cell_type": "markdown",
   "metadata": {},
   "source": [
    "```shell\n",
    "#echo $1 # rfl image dir\n",
    "#echo $2 # obs file dir\n",
    "#echo $3 #file list\n",
    "#echo $4 # output dir\n",
    "#echo $5 # coeffs dir \n",
    "#echo $6 # group tag \n",
    "\n",
    "str_img=''\n",
    "str_obs=''\n",
    "\n",
    "\n",
    "# Load images names from file list and merge to two variable lists\n",
    "while IFS= read -r imgbase\n",
    "do\n",
    "    #echo $imgbase\n",
    "\n",
    "    imgname=$(ls $1/$imgbase*rfl* | head -1)\n",
    "    obsname=$(ls $2/$imgbase*obs* | head -1)\n",
    "    \n",
    "    #echo \"$imgname\"\n",
    "    #echo \"$obsname\"\n",
    "\n",
    "    # join the variable lists\n",
    "    str_img=\"$str_img $imgname\"\n",
    "    str_obs=\"$str_obs $obsname\"\n",
    "\n",
    "    \n",
    "done < $3\n",
    "\n",
    "# Estimate BRDF correction coefficients in group mode. The two variable lists are gathered in the previous loop\n",
    "python topo_brdf_coeffs_modify_hybeta4.py  --img $str_img  --obs $str_obs  --od $4  --pref $6   --topo --brdf  --mask --mask_threshold 0.1 0.15 0.2 0.25 0.3 0.35 0.4 0.45 0.5 0.55 0.6 0.65 0.7 0.75 0.8 0.85 0.9 --kernels sparse thick  --samp_perc 0.1 --topo_sep\n",
    "\n",
    "\n",
    "\n",
    "# Perform TOPO+BRDF correction image by image and output desired product. Interpolation smoothing for BRDF coefficients is used in this example.\n",
    "while IFS= read -r imgbase\n",
    "do\n",
    "    #echo $imgbase\n",
    "\n",
    "    imgname=$(ls $1/$imgbase*rfl* | head -1)\n",
    "    obsname=$(ls $2/$imgbase*obs* | head -1)\n",
    "    \n",
    "    #echo \"$imgname\"\n",
    "    #echo \"$obsname\"\n",
    "    \n",
    "    python image_to_traits_modify_hybeta4.py -img $imgname --obs $obsname -od $4 --mask --mask_threshold 0.1 0.15 0.2 0.25 0.3 0.35 0.4 0.45 0.5 0.55 0.6 0.65 0.7 0.75 0.8 0.85 0.9 --brdf $4/$6 --topo $4/\"$imgbase\"_topo_coeffs.json   -coeffs $5 -smooth I\n",
    "\n",
    "done < $3\n",
    "\n",
    "\n",
    "#bash fake_batch_group_smooth.sh /hyspiri_image_dir/ /hyspiri_obs_dir/ /hyspiri_file_list_dir/fake_list.txt /hyspiri/coeff_out_dir/ /hyspiri/out_traits_dir/ hyspiri_group_f130626_18bins\n",
    "```"
   ]
  },
  {
   "cell_type": "markdown",
   "metadata": {},
   "source": [
    "##### run the bash\n",
    "  Group tag <B><I>\"hyspiri_group_f130626_18bins\"</I></B> varies according to actual group name"
   ]
  },
  {
   "cell_type": "markdown",
   "metadata": {},
   "source": [
    "```\n",
    "bash fake_batch_group_smooth.sh /hyspiri_image_dir/ /hyspiri_obs_dir/ /hyspiri_file_list_dir/fake_list.txt /hyspiri_coeff_out_dir/ /hyspiri_out_traits_dir/ hyspiri_group_f130626_18bins\n",
    "```"
   ]
  },
  {
   "cell_type": "code",
   "execution_count": null,
   "metadata": {},
   "outputs": [],
   "source": []
  }
 ],
 "metadata": {
  "kernelspec": {
   "display_name": "Python 2",
   "language": "python",
   "name": "python2"
  },
  "language_info": {
   "codemirror_mode": {
    "name": "ipython",
    "version": 2
   },
   "file_extension": ".py",
   "mimetype": "text/x-python",
   "name": "python",
   "nbconvert_exporter": "python",
   "pygments_lexer": "ipython2",
   "version": "2.7.14"
  }
 },
 "nbformat": 4,
 "nbformat_minor": 2
}
