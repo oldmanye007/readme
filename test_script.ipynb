{
 "cells": [
  {
   "cell_type": "markdown",
   "metadata": {},
   "source": [
    "#### Coefficients for TOPO and BRDF correction only"
   ]
  },
  {
   "cell_type": "code",
   "execution_count": null,
   "metadata": {},
   "outputs": [],
   "source": [
    "python topo_brdf_coeffs_modify.py  --img /hyspiri/f130626t01p00r07_rfl_v1a_img_subset  --obs /hyspiri/f130626t01p00r07_obs_v1a_img_subset  --od /hyspiri/out_dir/  --pref f130626t01p00r07  --kernels sparse thick  --mask  --mask_threshold 0.3 0.7  --brdf  --topo\n"
   ]
  },
  {
   "cell_type": "markdown",
   "metadata": {},
   "source": [
    "#### TOPO results only"
   ]
  },
  {
   "cell_type": "code",
   "execution_count": null,
   "metadata": {},
   "outputs": [],
   "source": [
    "\n",
    "python topo_brdf_coeffs_modify.py  --img /hyspiri/f130626t01p00r07_rfl_v1a_img_subset  --obs /hyspiri/f130626t01p00r07_obs_v1a_img_subset  --od /hyspiri/out_dir/  --pref f130626t01p00r07 --mask  --topo\n",
    "\n",
    "python image_to_traits_modify.py -img /hyspiri/f130626t01p00r07_rfl_v1a_img_subset --obs /hyspiri/f130626t01p00r07_obs_v1a_img_subset -od /hyspiri/out_dir/ --mask --topo /hyspiri/out_dir/f130626t01p00r07_subset_topo_coeffs.json --out _topo\n",
    "\n"
   ]
  },
  {
   "cell_type": "markdown",
   "metadata": {},
   "source": [
    "#### BRDF results only"
   ]
  },
  {
   "cell_type": "code",
   "execution_count": null,
   "metadata": {},
   "outputs": [],
   "source": [
    "\n",
    "python topo_brdf_coeffs_modify.py  --img /hyspiri/f130626t01p00r07_rfl_v1a_img_subset  --obs /hyspiri/f130626t01p00r07_obs_v1a_img_subset  --od /hyspiri/out_dir/  --pref f130626t01p00r07  --kernels sparse thick  --mask  --mask_threshold 0.3 0.7  --brdf\n",
    "\n",
    "python image_to_traits_modify.py -img /hyspiri/f130626t01p00r07_rfl_v1a_img_subset --obs /hyspiri/f130626t01p00r07_obs_v1a_img_subset -od /hyspiri/out_dir/ --brdf /hyspiri/out_dir/f130626t01p00r07_subset --mask --mask_threshold .3 .7  --out _brdf\n",
    "\n"
   ]
  },
  {
   "cell_type": "markdown",
   "metadata": {},
   "source": [
    "#### TOPO and BRDF result (ENVI format)"
   ]
  },
  {
   "cell_type": "code",
   "execution_count": null,
   "metadata": {},
   "outputs": [],
   "source": [
    "\n",
    "python topo_brdf_coeffs_modify.py  --img /hyspiri/f130626t01p00r07_rfl_v1a_img_subset  --obs /hyspiri/f130626t01p00r07_obs_v1a_img_subset  --od /hyspiri/out_dir/  --pref f130626t01p00r07  --kernels sparse thick  --mask  --mask_threshold 0.3 0.7  --brdf  --topo\n",
    "\n",
    "python image_to_traits_modify.py -img /hyspiri/f130626t01p00r07_rfl_v1a_img_subset --obs /hyspiri/f130626t01p00r07_obs_v1a_img_subset -od /hyspiri/out_dir/ --topo /hyspiri/out_dir/f130626t01p00r07_subset_topo_coeffs.json --brdf /hyspiri/out_dir/f130626t01p00r07_subset --mask --mask_threshold .3 .7  --out _topo_brdf\n",
    "\n"
   ]
  },
  {
   "cell_type": "markdown",
   "metadata": {},
   "source": [
    "#### TOPO and BRDF result (GeoTIFF format - 8 bands)"
   ]
  },
  {
   "cell_type": "code",
   "execution_count": null,
   "metadata": {},
   "outputs": [],
   "source": [
    "\n",
    "python topo_brdf_coeffs_modify.py  --img /hyspiri/f130626t01p00r07_rfl_v1a_img_subset  --obs /hyspiri/f130626t01p00r07_obs_v1a_img_subset  --od /hyspiri/out_dir/  --pref f130626t01p00r07  --kernels sparse thick  --mask  --mask_threshold 0.3 0.7  --brdf  --topo\n",
    "\n",
    "python image_to_traits_modify.py -img /hyspiri/f130626t01p00r07_rfl_v1a_img_subset --obs /hyspiri/f130626t01p00r07_obs_v1a_img_subset -od /hyspiri/out_dir/ --topo /hyspiri/out_dir/f130626t01p00r07_subset_topo_coeffs.json --brdf /hyspiri/out_dir/f130626t01p00r07_subset --mask --mask_threshold .3 .7  --rgbim\n",
    "\n"
   ]
  },
  {
   "cell_type": "markdown",
   "metadata": {},
   "source": [
    "#### TOPO and BRDF result (ENVI format plus GeoTIFF format - 8 bands)"
   ]
  },
  {
   "cell_type": "code",
   "execution_count": null,
   "metadata": {},
   "outputs": [],
   "source": [
    "\n",
    "python topo_brdf_coeffs_modify.py  --img /hyspiri/f130626t01p00r07_rfl_v1a_img_subset  --obs /hyspiri/f130626t01p00r07_obs_v1a_img_subset  --od /hyspiri/out_dir/  --pref f130626t01p00r07  --kernels sparse thick  --mask  --mask_threshold 0.3 0.7  --brdf  --topo\n",
    "\n",
    "python image_to_traits_modify.py -img /hyspiri/f130626t01p00r07_rfl_v1a_img_subset --obs /hyspiri/f130626t01p00r07_obs_v1a_img_subset -od /hyspiri/out_dir/ --topo /hyspiri/out_dir/f130626t01p00r07_subset_topo_coeffs.json --brdf /hyspiri/out_dir/f130626t01p00r07_subset --mask --mask_threshold .3 .7  --out _topo_brdf --rgbim\n",
    "\n"
   ]
  },
  {
   "cell_type": "markdown",
   "metadata": {},
   "source": [
    "#### Traits results (GeoTIFF format)"
   ]
  },
  {
   "cell_type": "code",
   "execution_count": null,
   "metadata": {},
   "outputs": [],
   "source": [
    "\n",
    "python topo_brdf_coeffs_modify.py  --img /hyspiri/f130626t01p00r07_rfl_v1a_img_subset  --obs /hyspiri/f130626t01p00r07_obs_v1a_img_subset  --od /hyspiri/out_dir/  --pref f130626t01p00r07  --kernels sparse thick  --mask  --mask_threshold 0.3 0.7  --brdf  --topo\n",
    "\n",
    "python image_to_traits_modify.py -img /hyspiri/f130626t01p00r07_rfl_v1a_img_subset --obs /hyspiri/f130626t01p00r07_obs_v1a_img_subset -od /hyspiri/out_dir/ --brdf /hyspiri/out_dir/f130626t01p00r07  --topo /hyspiri/out_dir/f130626t01p00r07_subset_topo_coeffs.json  --mask --mask_threshold .3 .7  -coeffs /hyspiri/traits/\n",
    "\n"
   ]
  },
  {
   "cell_type": "markdown",
   "metadata": {},
   "source": [
    "### Batch Mode"
   ]
  },
  {
   "cell_type": "markdown",
   "metadata": {},
   "source": [
    "Prepare the file list (fake_list.txt) and the shell script (fake_batch.sh).\n",
    "\n",
    "<p></p>\n",
    "\n",
    "<b>Directory for L2 reflectance image</b> \n",
    "\n",
    "<i>/hyspiri/</i> \n",
    "\n",
    "<b>Directory for L1 obs_ort image</b> \n",
    "\n",
    "<i>/hyspiri/</i>\n",
    "\n",
    "<b>Image List</b>\n",
    "\n",
    "<i>/hyspiri/fake_list.txt</i>\n",
    "\n",
    "<b>Output directory</b>\n",
    "\n",
    "<i>/hyspiri/out_dir/</i>\n",
    "\n",
    "<b>Directory for trait coefficients (json format)</b>\n",
    "\n",
    "<i>/hyspiri/traits/</i>\n"
   ]
  },
  {
   "cell_type": "markdown",
   "metadata": {},
   "source": [
    "##### fake_list.txt\n",
    "\n",
    "```\n",
    "f130626t01p00r07\n",
    "f130626t01p00r09\n",
    "```"
   ]
  },
  {
   "cell_type": "markdown",
   "metadata": {},
   "source": [
    "##### shell script for traitss mapping (fake_batch.sh)"
   ]
  },
  {
   "cell_type": "markdown",
   "metadata": {},
   "source": [
    "```shell\n",
    "#echo $1 # rfl image dir\n",
    "#echo $2 # obs file dir\n",
    "#echo $3 #file list\n",
    "#echo $4 # output dir\n",
    "#echo $5 # coeffs dir \n",
    "\n",
    "while IFS= read -r imgbase\n",
    "do\n",
    "\n",
    "    imagename=$(ls $1/$imgbase*rfl* | head -1)\n",
    "    obsname=$(ls $2/$imgbase*obs* | head -1)\n",
    "    \n",
    "    echo $imagename\n",
    "    echo $obsname\n",
    "    \n",
    "    python topo_brdf_coeffs_modify.py  --img $imagename  --obs $obsname  --od $4  --pref $imgbase    --kernels sparse thick  --mask  --mask_threshold 0.3 0.7  --brdf --topo\n",
    "    python image_to_traits_modify.py -img $imagename --obs $obsname -od $4 --mask --mask_threshold 0.3 0.7 --brdf $4/$imgbase --topo $4/\"$imgbase\"_topo_coeffs.json   -coeffs $5\n",
    "    \n",
    "done < $3\n",
    "```"
   ]
  },
  {
   "cell_type": "markdown",
   "metadata": {},
   "source": [
    "##### run the bash"
   ]
  },
  {
   "cell_type": "markdown",
   "metadata": {},
   "source": [
    "```\n",
    "bash fake_batch.sh /hyspiri/ /hyspiri/ /hyspiri/fake_list.txt /hyspiri/out_dir/ /hyspiri/traits/\n",
    "```"
   ]
  },
  {
   "cell_type": "markdown",
   "metadata": {},
   "source": [
    "### Grouping mode"
   ]
  },
  {
   "cell_type": "markdown",
   "metadata": {},
   "source": [
    "In grouping mode, the BRDF coefficients are estimated based on sampled data from more than one images that are acquired in similar time. By contrast, in the single mode, the BRDF coefficients are estimated image by image without sampling.\n",
    "\n",
    "TOPO coefficients estimation can be done either in a grouping mode ot in a single mode <b>\"--topo_sep\"</b>.\n",
    "\n",
    "In the grouping mode, the size of samples is determined by percentage parameter <b>\"--samp_perc\"</b>."
   ]
  },
  {
   "cell_type": "markdown",
   "metadata": {},
   "source": [
    "#### Image-by-image TOPO correction, grouping BRDF correction\n",
    "\n",
    "Two images are corrected. TOPO correction is image based using sampled points from each image. BRDF is group based that is estimated from samples from both images. Sampling ratio is 10% in the example.\n",
    "\n",
    "Two topo coefficients files are generated, which are numbered by the order of the input images. A single BRDF coeffcients file is generated. "
   ]
  },
  {
   "cell_type": "code",
   "execution_count": null,
   "metadata": {},
   "outputs": [],
   "source": [
    "\n",
    "python topo_brdf_coeffs_modify_hybeta2.py  --img /hyspiri/f140603t01p00r10_rfl_v1b_img /hyspiri/f140603t01p00r12_rfl_v1b_img  --obs /hyspiri/f140603t01p00r10_obs_v1b_img /hyspiri/f140603t01p00r12_obs_v1b_img  --od /hyspiri/out_dir/  --pref f14_group_3bins   --topo --brdf  --mask --mask_threshold 0.4 0.7 --kernels sparse thick  --samp_perc 0.1 --topo_sep\n",
    "\n",
    "python image_to_traits_modify_hybeta2.py -img /hyspiri/f140603t01p00r10_rfl_v1b_img  --obs /hyspiri/f140603t01p00r10_obs_v1b_img -od /hyspiri/out_dir/   --mask --mask_threshold 0.4 0.7 --topo /hyspiri/out_dir/f14_group_3bins_0_topo_coeffs.json  --brdf /hyspiri/out_dir/f14_group_3bins  --out _topo_brdf_group\n",
    "python image_to_traits_modify_hybeta2.py -img /hyspiri/f140603t01p00r12_rfl_v1b_img  --obs /hyspiri/f140603t01p00r12_obs_v1b_img -od /hyspiri/out_dir/   --mask --mask_threshold 0.4 0.7 --topo /hyspiri/out_dir/f14_group_3bins_1_topo_coeffs.json  --brdf /hyspiri/out_dir/f14_group_3bins  --out _topo_brdf_group"
   ]
  },
  {
   "cell_type": "markdown",
   "metadata": {},
   "source": [
    "#### Grouping TOPO correction and grouping BRDF correction\n",
    "\n",
    "Two images are corrected. Both TOPO and BRDF correction are group-based that are estimated from samples from both images. Sampling ratio is 10% in the example.\n",
    "\n",
    "A single TOPO coeffcients file is generated. A single BRDF coeffcients file is generated. "
   ]
  },
  {
   "cell_type": "code",
   "execution_count": null,
   "metadata": {},
   "outputs": [],
   "source": [
    "\n",
    "python topo_brdf_coeffs_modify_hybeta2.py  --img /hyspiri/f140603t01p00r10_rfl_v1b_img /hyspiri/f140603t01p00r12_rfl_v1b_img  --obs /hyspiri/f140603t01p00r10_obs_v1b_img /hyspiri/f140603t01p00r12_obs_v1b_img  --od /hyspiri/out_dir/  --pref f14_group_3bins   --topo --brdf  --mask --mask_threshold 0.4 0.7 --kernels sparse thick  --samp_perc 0.1\n",
    "\n",
    "python image_to_traits_modify_hybeta2.py -img /hyspiri/f140603t01p00r10_rfl_v1b_img  --obs /hyspiri/f140603t01p00r10_obs_v1b_img -od /hyspiri/out_dir/   --mask --mask_threshold 0.4 0.7 --topo /hyspiri/out_dir/f14_group_3bins_topo_coeffs.json  --brdf /hyspiri/out_dir/f14_group_3bins  --out _topo_brdf_group\n",
    "python image_to_traits_modify_hybeta2.py -img /hyspiri/f140603t01p00r12_rfl_v1b_img  --obs /hyspiri/f140603t01p00r12_obs_v1b_img -od /hyspiri/out_dir/   --mask --mask_threshold 0.4 0.7 --topo /hyspiri/out_dir/f14_group_3bins_topo_coeffs.json  --brdf /hyspiri/out_dir/f14_group_3bins  --out _topo_brdf_group"
   ]
  }
 ],
 "metadata": {
  "kernelspec": {
   "display_name": "Python 2",
   "language": "python",
   "name": "python2"
  },
  "language_info": {
   "codemirror_mode": {
    "name": "ipython",
    "version": 2
   },
   "file_extension": ".py",
   "mimetype": "text/x-python",
   "name": "python",
   "nbconvert_exporter": "python",
   "pygments_lexer": "ipython2",
   "version": "2.7.14"
  }
 },
 "nbformat": 4,
 "nbformat_minor": 2
}
